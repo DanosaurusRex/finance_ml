{
 "cells": [
  {
   "cell_type": "markdown",
   "metadata": {},
   "source": [
    "In this notebook, we go through the theory of overfitting. When researchers conduct multiple trials, the probability to find strategy that looks profitable in backtesting without any statistical edges increases. We called it here selection bias under multiple testting (SBuMT). \n",
    "\n",
    "SBuMT is compounded at many asset managers as a result of two levels:\n",
    "1. Each research runs millions of simulations and provide the best result to their boss\n",
    "2. The company further selects a few backtests among already overfitted results submitted by researchers\n",
    "\n",
    "We work on estimating these bias effects in order to estimate results properly."
   ]
  },
  {
   "cell_type": "code",
   "execution_count": 2,
   "metadata": {},
   "outputs": [],
   "source": [
    "%matplotlib inline\n",
    "import matplotlib.pyplot as plt\n",
    "import seaborn as sns\n",
    "import numpy as np\n",
    "import pandas as pd"
   ]
  },
  {
   "cell_type": "code",
   "execution_count": 3,
   "metadata": {},
   "outputs": [],
   "source": [
    "from scipy.stats import norm, percentileofscore\n",
    "from tqdm import tqdm_notebook\n",
    "\n",
    "def get_expected_max_SR(n_trials, mean_sr, std_sr):\n",
    "    #Expected max SR, controlling for SBuMT\n",
    "    emc = 0.577215664901532860606512090082402431042159336\n",
    "    sr0 = (1 - emc)*norm.ppf(1 - 1./n_trials) + emc*norm.ppf(1 - 1./(n_trials*np.e))\n",
    "    sr0 = mean_sr + std_sr*sr0\n",
    "    return sr0\n",
    "\n",
    "def get_dist_max_SR(n_sims, n_trials, mean_sr, std_sr, verbose=0):\n",
    "    # Monte Carlo of max{SR} on n_trials from n_sims simulations\n",
    "    rng = np.random.RandomState()\n",
    "    out = pd.DataFrame()\n",
    "    n_sims = int(n_sims)\n",
    "    if verbose > 0:\n",
    "        n_trials = tqdm_notebook(n_trials)\n",
    "    for trial_i in n_trials:\n",
    "        # 1) Simulate Sharpe Ratios\n",
    "        sr = pd.DataFrame(rng.randn(n_sims, trial_i))\n",
    "        sr = sr.sub(sr.mean(axis=1), axis=0)\n",
    "        sr = sr.div(sr.std(axis=1), axis=0)\n",
    "        sr = mean_sr + sr * std_sr\n",
    "        # 2) Store output\n",
    "        out_ = sr.max(axis=1).to_frame('max{SR}')\n",
    "        out_['n_trials'] = trial_i\n",
    "        out = out.append(out_, ignore_index=True)\n",
    "    return out"
   ]
  },
  {
   "cell_type": "code",
   "execution_count": 4,
   "metadata": {},
   "outputs": [
    {
     "data": {
      "application/vnd.jupyter.widget-view+json": {
       "model_id": "c8423f8f5c56423496fa9194967862e8",
       "version_major": 2,
       "version_minor": 0
      },
      "text/plain": [
       "HBox(children=(IntProgress(value=0, max=95), HTML(value='')))"
      ]
     },
     "metadata": {},
     "output_type": "display_data"
    },
    {
     "name": "stdout",
     "output_type": "stream",
     "text": [
      "\n"
     ]
    }
   ],
   "source": [
    "n_trials = list(set(np.logspace(1, 3, 100).astype(int)))\n",
    "n_trials.sort()\n",
    "sr0 = pd.Series({i: get_expected_max_SR(i, mean_sr=0, std_sr=1) for i in n_trials})\n",
    "sr1 = get_dist_max_SR(n_sims=1000, n_trials=n_trials, mean_sr=0, std_sr=1, verbose=1)"
   ]
  },
  {
   "cell_type": "code",
   "execution_count": 11,
   "metadata": {},
   "outputs": [],
   "source": [
    "def get_mean_std_error(n_sims_sr, n_sims_err, n_trials, std_sr=1, mean_sr=0, verbose=0):\n",
    "    sr0 = pd.Series({i: get_expected_max_SR(i, mean_sr, std_sr) for i in n_trials})\n",
    "    sr0 = sr0.to_frame(\"E[max{SR}]\")\n",
    "    sr0.index.name = \"n_trials\"\n",
    "    err = pd.DataFrame()\n",
    "    n_sims_sr = int(n_sims_sr)\n",
    "    n_sims_err = int(n_sims_err)\n",
    "    if verbose > 0:\n",
    "        n_sims_err = tqdm_notebook(range(n_sims_err))\n",
    "    else:\n",
    "        n_sims_err = range(n_sims_err)\n",
    "    for i in n_sims_err:\n",
    "        sr1 = get_dist_max_SR(n_sims=n_sims_sr, n_trials=n_trials, mean_sr=0, std_sr=1)\n",
    "        sr1 = sr1.groupby(\"n_trials\").mean()\n",
    "        err_ = sr0.join(sr1).reset_index()\n",
    "        err_[\"err\"] = err_[\"max{SR}\"] / err_[\"E[max{SR}]\"] - 1.\n",
    "        err = err.append(err_)\n",
    "    out = {\"meanErr\": err.groupby(\"n_trials\")[\"err\"].mean()}\n",
    "    out[\"stdErr\"] = err.groupby(\"n_trials\")[\"err\"].std()\n",
    "    out = pd.DataFrame.from_dict(out, orient=\"columns\")\n",
    "    return out"
   ]
  },
  {
   "cell_type": "code",
   "execution_count": null,
   "metadata": {},
   "outputs": [
    {
     "data": {
      "application/vnd.jupyter.widget-view+json": {
       "model_id": "44e49f475a6e4ce3934ed2f638d30b73",
       "version_major": 2,
       "version_minor": 0
      },
      "text/plain": [
       "HBox(children=(IntProgress(value=0, max=1000), HTML(value='')))"
      ]
     },
     "metadata": {},
     "output_type": "display_data"
    }
   ],
   "source": [
    "n_trials = list(set(np.logspace(1, 4, 100).astype(int)))\n",
    "n_trials.sort()\n",
    "n_trials.sort()\n",
    "n_sims_sr = 1e3\n",
    "n_sims_err = 1e3\n",
    "err = get_mean_std_error(n_sims_sr, n_sims_err, n_trials, verbose=1)"
   ]
  },
  {
   "cell_type": "code",
   "execution_count": null,
   "metadata": {},
   "outputs": [],
   "source": []
  }
 ],
 "metadata": {
  "kernelspec": {
   "display_name": "Python 3",
   "language": "python",
   "name": "python3"
  },
  "language_info": {
   "codemirror_mode": {
    "name": "ipython",
    "version": 3
   },
   "file_extension": ".py",
   "mimetype": "text/x-python",
   "name": "python",
   "nbconvert_exporter": "python",
   "pygments_lexer": "ipython3",
   "version": "3.7.4"
  }
 },
 "nbformat": 4,
 "nbformat_minor": 2
}
